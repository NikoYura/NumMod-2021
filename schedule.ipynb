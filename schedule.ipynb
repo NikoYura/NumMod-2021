{
 "cells": [
  {
   "cell_type": "markdown",
   "metadata": {},
   "source": [
    "# Numerical Modeling  \n",
    "\n",
    "## Skoltech, Term 3, 2021"
   ]
  },
  {
   "cell_type": "markdown",
   "metadata": {},
   "source": [
    "**Course instructors: **\n",
    "Alexander Shapeev\n",
    "\n",
    "**TA:**\n",
    "* Andrey Olhin, PhD student"
   ]
  },
  {
   "cell_type": "markdown",
   "metadata": {},
   "source": [
    "[Course syllabus](syllabus.ipynb)\n",
    "\n",
    "Python [Crash Course](https://github.com/oseledets/nla2015/blob/master/lectures/Python_crash_course.ipynb)\n",
    "\n",
    "\n",
    "| Week | &nbsp; | Monday | Tuesday | Thursday |  |\n",
    "|---|---|---|---|---|---|\n",
    "|1 | (Feb 1-5)  | [Lecture 1](lecture-1.ipynb) | &nbsp; | &nbsp; | &nbsp; | \n",
    "|2 | (Feb 8-12) | [Lecture 2](lecture-2.ipynb) | &nbsp; | &nbsp; | &nbsp; | \n",
    "|3 | (Feb 15-19)| &nbsp; | &nbsp; | &nbsp; | &nbsp; | \n",
    "\n"
   ]
  },
  {
   "cell_type": "code",
   "execution_count": null,
   "metadata": {
    "collapsed": true
   },
   "outputs": [],
   "source": []
  }
 ],
 "metadata": {
  "kernelspec": {
   "display_name": "Python 3",
   "language": "python",
   "name": "python3"
  },
  "language_info": {
   "codemirror_mode": {
    "name": "ipython",
    "version": 3
   },
   "file_extension": ".py",
   "mimetype": "text/x-python",
   "name": "python",
   "nbconvert_exporter": "python",
   "pygments_lexer": "ipython3",
   "version": "3.7.0"
  }
 },
 "nbformat": 4,
 "nbformat_minor": 1
}
