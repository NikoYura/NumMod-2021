{
 "cells": [
  {
   "cell_type": "markdown",
   "metadata": {},
   "source": [
    "# Numerical Modeling  \n",
    "\n",
    "## Skoltech, Term 3, 2021"
   ]
  },
  {
   "cell_type": "markdown",
   "metadata": {},
   "source": [
    "**Course instructors: **\n",
    "Alexander Shapeev\n",
    "\n",
    "**TA:**\n",
    "* Andrey Olhin, PhD student"
   ]
  },
  {
   "cell_type": "markdown",
   "metadata": {},
   "source": [
    "[Course syllabus](syllabus.ipynb)\n",
    "\n",
    "Python [Crash Course](https://github.com/oseledets/nla2015/blob/master/lectures/Python_crash_course.ipynb)\n",
    "\n",
    "\n",
    "| Week | &nbsp; | Monday | Tuesday | Thursday |  |\n",
    "|---|---|---|---|---|---|\n",
    "|1 | (Feb 1-5)  | [Lecture 1](lecture-1.ipynb) | &nbsp; | &nbsp; | &nbsp; | \n",
    "|2 | (Feb 8-12) | [Lecture 2](lecture-2.ipynb) | [Lecture 3](lecture-3.ipynb) | &nbsp; | &nbsp;\n",
    "|3 | (Feb 15-19) | [Lecture 4](lecture-4.ipynb) | [Lecture 5](lecture-5.ipynb) | [Lecture 6](lecture-6.ipynb) | &nbsp;\n",
    "|4 | (Feb 24-26)| - | - | Lecture 7 | | \n",
    "|5 | (Mar 1-5)| Recap | Midterm exam | &nbsp; | &nbsp; | \n",
    "|6 | (Mar 8-12)| - | invited lecture | invited lecture | &nbsp; | \n",
    "|7 | (Mar 15-19)| Final Recap | Final exam | &nbsp; | &nbsp; | \n",
    "|8 | (Mar 22-26)| App Period | App Period | App Period | &nbsp; | \n"
   ]
  },
  {
   "cell_type": "code",
   "execution_count": null,
   "metadata": {
    "collapsed": true
   },
   "outputs": [],
   "source": []
  }
 ],
 "metadata": {
  "kernelspec": {
   "display_name": "Python 3",
   "language": "python",
   "name": "python3"
  },
  "language_info": {
   "codemirror_mode": {
    "name": "ipython",
    "version": 3
   },
   "file_extension": ".py",
   "mimetype": "text/x-python",
   "name": "python",
   "nbconvert_exporter": "python",
   "pygments_lexer": "ipython3",
   "version": "3.7.0"
  }
 },
 "nbformat": 4,
 "nbformat_minor": 1
}
