{
 "cells": [
  {
   "cell_type": "markdown",
   "metadata": {
    "slideshow": {
     "slide_type": "slide"
    }
   },
   "source": [
    "# Tutorial 1: Differential Equations and Finite Differences"
   ]
  },
  {
   "cell_type": "markdown",
   "metadata": {
    "slideshow": {
     "slide_type": "slide"
    }
   },
   "source": [
    "## a PDE\n",
    "\n",
    "<img width=\"400\" src=\"fig/springs_sheet.png\">\n",
    "\n",
    "* Force balance:\n",
    "$$\n",
    "h^{-2} (u _{i+1,j} - 2 u _{i,j} + u _{i-1,j} + u _{i,j+1} - 2 u _{i,j} + u _{i,j-1})\n",
    "= -F _{i,j}\n",
    "$$\n",
    "\n",
    "* Solve it for the case $F _{i,j} = 1$\n",
    "\n",
    "* This equation models a membrane."
   ]
  },
  {
   "cell_type": "markdown",
   "metadata": {
    "slideshow": {
     "slide_type": "slide"
    }
   },
   "source": [
    "## Solving a BVP with Finite Differences\n",
    "\n",
    "### Discretize a domain:\n",
    "\n",
    "* Choose $h$---grid step size\n",
    "\n",
    "* Grid is points \"that are multiples\" of $h$ (also called a *mesh*).\n",
    "We denote it as $${\\mathbb R}^2 _h := \\{(x _1,x _2) : x _1/h\\in{\\mathbb Z}, x _2/h\\in{\\mathbb Z}\\}$$\n",
    "\n",
    "<center><img width=200 src=\"fig/grid.png\"></center>\n",
    "\n",
    "<center>Black points: unknowns, <span style=\"color: blue\">blue points</span>: u=0</center>"
   ]
  },
  {
   "cell_type": "markdown",
   "metadata": {
    "slideshow": {
     "slide_type": "slide"
    }
   },
   "source": [
    "** TODO **: write a python code that solves and plots the solution for $f\\equiv 1$."
   ]
  },
  {
   "cell_type": "code",
   "execution_count": null,
   "metadata": {
    "collapsed": true
   },
   "outputs": [],
   "source": []
  }
 ],
 "metadata": {
  "celltoolbar": "Slideshow",
  "kernelspec": {
   "display_name": "Python 3",
   "language": "python",
   "name": "python3"
  },
  "language_info": {
   "codemirror_mode": {
    "name": "ipython",
    "version": 3
   },
   "file_extension": ".py",
   "mimetype": "text/x-python",
   "name": "python",
   "nbconvert_exporter": "python",
   "pygments_lexer": "ipython3",
   "version": "3.7.0"
  }
 },
 "nbformat": 4,
 "nbformat_minor": 1
}
