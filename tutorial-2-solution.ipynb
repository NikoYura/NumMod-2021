{
 "cells": [
  {
   "cell_type": "markdown",
   "metadata": {
    "slideshow": {
     "slide_type": "slide"
    }
   },
   "source": [
    "# Tutorial 2: Taylor series"
   ]
  },
  {
   "cell_type": "markdown",
   "metadata": {
    "collapsed": true,
    "slideshow": {
     "slide_type": "slide"
    }
   },
   "source": [
    "### Problem 1:\n",
    "\n",
    "We approximate $f(x)=\\sin(x)$ with $g(x)=x$ at $x=h$ (small). How close are $f(h)$ and $g(h)$? Hint: expand $f(h)-g(h)$ in Taylor series around $h=0$"
   ]
  },
  {
   "cell_type": "markdown",
   "metadata": {
    "slideshow": {
     "slide_type": "slide"
    }
   },
   "source": [
    "### Problem 2:\n",
    "\n",
    "We approximate  $f(x)=\\sin(x)$  with  $g(x)=x (a+b \\cos(x))$  at  $x=h$  (small). How to choose $a$ and $b$ so that the order of approximation is the highest (Hint: expand $f(h)-g(h)$ in Taylor series around $h=0$ and choose $a$ and $b$ so as to vashish as many Taylor series terms as possible)"
   ]
  },
  {
   "cell_type": "markdown",
   "metadata": {
    "slideshow": {
     "slide_type": "slide"
    }
   },
   "source": [
    "### Problem 3:\n",
    "\n",
    "Consider the following boundary-value problem:\n",
    "$$\n",
    "\\frac{\\partial u}{\\partial t} = \\frac{\\partial^2 u}{\\partial x^2},\n",
    "$$\n",
    "$$\n",
    "u(0,x) = \\sum_k c_k \\sin(\\pi k x)\n",
    "$$\n",
    "$$\n",
    "u(t,0)=u(t,1)=0\n",
    "$$\n",
    "Write down its solution in the form of series, $u(t,x) = ...$"
   ]
  },
  {
   "cell_type": "markdown",
   "metadata": {},
   "source": [
    "$$\n",
    "u(0,x) = \\sum_{k=1}^{\\infty} c_k \\sin(\\pi k x)\n",
    "$$"
   ]
  },
  {
   "cell_type": "markdown",
   "metadata": {},
   "source": [
    "If you find a solution $u_k$ to\n",
    "$$\n",
    "\\frac{\\partial u}{\\partial t} = \\frac{\\partial^2 u}{\\partial x^2},\n",
    "$$\n",
    "$$\n",
    "u(0,x) = \\sin(\\pi k x)\n",
    "$$\n",
    "$$\n",
    "u(t,0)=u(t,1)=0\n",
    "$$\n",
    "then the solution to the original initial-boundary-value-problem is\n",
    "$$\n",
    "u(t,x) = \\sum_{k=1}^{\\infty} c_k u_k(t,x)\n",
    "$$"
   ]
  },
  {
   "cell_type": "markdown",
   "metadata": {},
   "source": [
    "Look for solution in the form $u(t,x) = v(t) \\sin(\\pi k x)$.\n",
    "Then:\n",
    "$$\n",
    "v'(t) = -(\\pi k)^2 v(t)\n",
    "$$\n",
    "$$\n",
    "v(0) =1\n",
    "$$"
   ]
  },
  {
   "cell_type": "markdown",
   "metadata": {},
   "source": [
    "$$\n",
    "v(t)=\\exp\\big(-(\\pi k)^2 t \\big)\n",
    "$$\n",
    "So\n",
    "$$\n",
    "u_k(t,x) = \\exp\\big(-(\\pi k)^2 t \\big) \\sin(\\pi k x)\n",
    "$$\n",
    "So\n",
    "$$\n",
    "u(t,x) = \\sum_{k=1}^{\\infty} c_k \\exp\\big(-(\\pi k)^2 t \\big) \\sin(\\pi k x)\n",
    "$$"
   ]
  },
  {
   "cell_type": "code",
   "execution_count": null,
   "metadata": {},
   "outputs": [],
   "source": []
  }
 ],
 "metadata": {
  "celltoolbar": "Slideshow",
  "kernelspec": {
   "display_name": "Python 3",
   "language": "python",
   "name": "python3"
  },
  "language_info": {
   "codemirror_mode": {
    "name": "ipython",
    "version": 3
   },
   "file_extension": ".py",
   "mimetype": "text/x-python",
   "name": "python",
   "nbconvert_exporter": "python",
   "pygments_lexer": "ipython3",
   "version": "3.7.0"
  }
 },
 "nbformat": 4,
 "nbformat_minor": 1
}
