{
 "cells": [
  {
   "cell_type": "markdown",
   "metadata": {
    "slideshow": {
     "slide_type": "slide"
    }
   },
   "source": [
    "# Tutorial 2: Taylor series"
   ]
  },
  {
   "cell_type": "markdown",
   "metadata": {
    "collapsed": true,
    "slideshow": {
     "slide_type": "slide"
    }
   },
   "source": [
    "### Problem 1:\n",
    "\n",
    "We approximate $f(x)=\\sin(x)$ with $g(x)=x$ at $x=h$ (small). How close are $f(h)$ and $g(h)$? Hint: expand $f(h)-g(h)$ in Taylor series around $h=0$"
   ]
  },
  {
   "cell_type": "markdown",
   "metadata": {
    "slideshow": {
     "slide_type": "slide"
    }
   },
   "source": [
    "### Problem 2:\n",
    "\n",
    "We approximate  $f(x)=\\sin(x)$  with  $g(x)=x (a+b \\cos(x))$  at  $x=h$  (small). How to choose $a$ and $b$ so that the order of approximation is the highest (Hint: expand $f(h)-g(h)$ in Taylor series around $h=0$ and choose $a$ and $b$ so as to vashish as many Taylor series terms as possible)"
   ]
  },
  {
   "cell_type": "markdown",
   "metadata": {
    "slideshow": {
     "slide_type": "slide"
    }
   },
   "source": [
    "### Problem 3:\n",
    "\n",
    "Consider the following boundary-value problem:\n",
    "$$\n",
    "\\frac{\\partial u}{\\partial t} = \\frac{\\partial^2 u}{\\partial x^2},\n",
    "$$\n",
    "$$\n",
    "u(0,x) = \\sum_k c_k \\sin(\\pi k x)\n",
    "$$\n",
    "$$\n",
    "u(t,0)=u(t,1)=1\n",
    "$$\n",
    "Write down its solution in the form of series, $u(t,x) = ...$"
   ]
  }
 ],
 "metadata": {
  "celltoolbar": "Slideshow",
  "kernelspec": {
   "display_name": "Python 3",
   "language": "python",
   "name": "python3"
  },
  "language_info": {
   "codemirror_mode": {
    "name": "ipython",
    "version": 3
   },
   "file_extension": ".py",
   "mimetype": "text/x-python",
   "name": "python",
   "nbconvert_exporter": "python",
   "pygments_lexer": "ipython3",
   "version": "3.7.0"
  }
 },
 "nbformat": 4,
 "nbformat_minor": 1
}
