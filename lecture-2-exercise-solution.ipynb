{
 "cells": [
  {
   "cell_type": "markdown",
   "metadata": {
    "slideshow": {
     "slide_type": "slide"
    }
   },
   "source": [
    "# Lecture 2: Functions, interpolation, quadrature"
   ]
  },
  {
   "cell_type": "markdown",
   "metadata": {},
   "source": [
    "- We want to approximate\n",
    "$$\\int_{-h}^h \\tilde{f}(x) {\\rm d}x \\approx c_0 \\tilde{f}(h \\xi_0)+c_1 \\tilde{f}(h \\xi_1)$$\n",
    "\n",
    "- Make a change of variables, $x=h\\xi$:\n",
    "$$\\int_{-1}^1 \\tilde{f}(h\\xi) {\\rm d}\\xi \\approx c_0 \\tilde{f}(h \\xi_0)+c_1 \\tilde{f}(h \\xi_1)$$\n",
    "\n",
    "- Another change of variables, $\\tilde{f}(h\\xi) = f(\\xi)$:\n",
    "$$\\int_{-1}^1 f(\\xi) {\\rm d}\\xi \\approx c_0 f(\\xi_0)+c_1 f(\\xi_1)$$\n",
    "\n",
    "- Require the formula to be exact on $f(\\xi)=1\\, (\\forall \\xi)$ and $f(\\xi)=\\xi\\,(\\forall \\xi)$:\n",
    "$$ 2 = c_0 + c_1 $$\n",
    "$$ 0 = c_0 \\xi_0 + c_1 \\xi_1 $$\n",
    "\n",
    "- Use [Cramer's rule](https://en.wikipedia.org/wiki/Cramer%27s_rule) to solve it:\n",
    "$$\\int_{-h}^h f(x) {\\rm d}x \\approx 2 \\frac{\\xi_1\\, f(\\xi_0) - \\xi_0\\, f(\\xi_1)}{\\xi_1-\\xi_0}$$\n",
    "\n",
    "- Now test with $f=\\xi^2$ and $f=\\xi^3$:\n",
    "$$ 2/3 = 2 \\frac{\\xi_1\\, \\xi_0^2 - \\xi_0\\, \\xi_1^2}{\\xi_1-\\xi_0} $$\n",
    "$$ 0 = 2 \\frac{\\xi_1\\, \\xi_0^3 - \\xi_0\\, \\xi_1^3}{\\xi_1-\\xi_0} $$\n",
    "\n",
    "- The last equation is easy:\n",
    "$$0 =  \\frac{\\xi_1\\, \\xi_0 (\\xi_0^2-\\xi_1^2)}{\\xi_1-\\xi_0} = \\xi_1\\, \\xi_0 (\\xi_0 + \\xi_1)$$\n",
    "from where $\\xi_0 = -\\xi_1$ or $\\xi_0=0$ or $\\xi_1=0$\n",
    "\n",
    "- First equation:\n",
    "$$1/3 = \\xi_0 \\xi_1$$\n",
    "So $\\xi_0\\ne 0$, $\\xi_1\\ne 0$ and hence $\\xi_0 = -\\xi_1 = \\pm \\frac{1}{\\sqrt{3}}$"
   ]
  },
  {
   "cell_type": "markdown",
   "metadata": {
    "slideshow": {
     "slide_type": "slide"
    }
   },
   "source": [
    "## How to choose the quadrature points?\n",
    "\n",
    "* Define error by\n",
    "$$\n",
    "{\\rm err} := \\int _a ^b f(x) dx - \\sum _i c_i f(x_i)\n",
    "$$\n",
    "\n",
    "* If it has $n$ points, it can be exact on polynomials of degree $n-1$ in the worst case,\n",
    "\n",
    "* However, choosing $x_k$ to be the roots of Legendre polynomials on the interval $[a,b]$ makes it exact on polynomials of degree $2n-1$.\n",
    "\n",
    "* Because a general polynomial of degree $2n-1$ can be written as $q(x) + p(x) L_n(x)$, where $L_n(x)$ is the Legendre polynomial of $n$-th degree and $p(x)$ and $q(x)$ are polynomials of degree $n-1$.\n",
    "\n",
    "* We have:\n",
    "$$\n",
    "{\\rm err} := \\int _a ^b \\big( q(x) + p(x) L_n(x) \\big) dx - \\sum _i c_i \\big( q(x_i) + p(x_i) L_n(x_i) \\big)\n",
    "$$"
   ]
  },
  {
   "cell_type": "markdown",
   "metadata": {
    "slideshow": {
     "slide_type": "slide"
    }
   },
   "source": [
    "## Relevant material:\n",
    "\n",
    "* Eugene E. Tyrtyshnikov, “A Brief Introduction to Numerical Analysis.” Springer Science & Business Media, 2012 (ISBN: 978-0-8176-8136-4; DOI: 10.1007/978-0-8176-8136-4)."
   ]
  },
  {
   "cell_type": "code",
   "execution_count": null,
   "metadata": {
    "collapsed": true
   },
   "outputs": [],
   "source": []
  }
 ],
 "metadata": {
  "celltoolbar": "Slideshow",
  "kernelspec": {
   "display_name": "Python 3",
   "language": "python",
   "name": "python3"
  },
  "language_info": {
   "codemirror_mode": {
    "name": "ipython",
    "version": 3
   },
   "file_extension": ".py",
   "mimetype": "text/x-python",
   "name": "python",
   "nbconvert_exporter": "python",
   "pygments_lexer": "ipython3",
   "version": "3.7.0"
  }
 },
 "nbformat": 4,
 "nbformat_minor": 1
}
