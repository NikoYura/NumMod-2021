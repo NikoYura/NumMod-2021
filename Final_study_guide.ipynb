{
 "cells": [
  {
   "cell_type": "markdown",
   "metadata": {},
   "source": [
    "# Numerical Modeling, Skoltech, Term 3, 2021\n",
    "\n",
    "## Final study guide\n",
    "\n",
    "For the midterm you should be able to:\n",
    "\n",
    "1. Finite differences (FD)\n",
    "    - write down basic FD approximations to differential operators, equations, and boundary/initial conditions\n",
    "    - determine the order of approximation (and prove)\n",
    "    - judge whether an initial-value problem is stable (or for what parameters it is stable)\n",
    "    - understand how to implement FD on a computer\n",
    "2. Finite elements (FE)\n",
    "    - fomulate a (boundary-value problem for a) PDE in a weak form\n",
    "    - formulate a FE problem, finite element space (piecewise linear functions)\n",
    "    - write down the stiffness matrix in simple cases\n",
    "    - understand how to implement FE on a computer\n",
    "3. Spectral methods (new compared to the Midterm study guide)\n",
    "    * for a given (steady of time-dependent) PDE problem, formulate the corresponding spectral method (with bases including sines, cosines, complex exponentials)\n",
    "    - understand how to implement a spectral method on a computer\n",
    "4. Interpolation, quadrature\n",
    "    - given an interval and interpolation nodes, write down a formula for a polynomial interpolation of a function\n",
    "    - given the nodes of a quadrature formula, write down the quadrature formula\n",
    "    - given an interpolation or quadrature, determine its (convergence) order"
   ]
  },
  {
   "cell_type": "code",
   "execution_count": null,
   "metadata": {},
   "outputs": [],
   "source": []
  }
 ],
 "metadata": {
  "kernelspec": {
   "display_name": "Python 3",
   "language": "python",
   "name": "python3"
  },
  "language_info": {
   "codemirror_mode": {
    "name": "ipython",
    "version": 3
   },
   "file_extension": ".py",
   "mimetype": "text/x-python",
   "name": "python",
   "nbconvert_exporter": "python",
   "pygments_lexer": "ipython3",
   "version": "3.7.0"
  }
 },
 "nbformat": 4,
 "nbformat_minor": 1
}
