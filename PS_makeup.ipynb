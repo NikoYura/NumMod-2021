{
 "cells": [
  {
   "cell_type": "markdown",
   "metadata": {},
   "source": [
    "# NumMod, Skoltech, Term 3, 2021"
   ]
  },
  {
   "cell_type": "markdown",
   "metadata": {},
   "source": [
    "### Problem PS1.P2 (20pt)\n",
    "\n",
    "Consider the following nonlinear problem\n",
    "$$\n",
    "\\left\\{\n",
    "\\begin{array}{l}\n",
    "((0.2+u^2) u')'=0 \\\\\n",
    "u(-1)=-1 \\\\\n",
    "u(1)=1\n",
    "\\end{array}\n",
    "\\right.\n",
    "$$\n",
    "\n",
    "* **(5pt)** Formulate the corresponding finite difference problem.\n",
    "\n",
    "You can solve the problem iteratively by taking the initial guess $u^0(x)=0$ and iteratively solving\n",
    "$$\n",
    "\\left\\{\n",
    "\\begin{array}{l}\n",
    "((0.2+(u^{(k-1)})^2) (u^{(k)})')'=0 \\\\\n",
    "u^{(k)}(-1)=-1 \\\\\n",
    "u^{(k)}(1)=1\n",
    "\\end{array}\n",
    "\\right.\n",
    "$$\n",
    "for $u^{(k)}$.\n",
    "\n",
    "* **(10pt)** Write the function that finds $u^{(k)}$ given $u^{(k-1)}$. Write the corresponding code for solving the original nonlinear problem.\n",
    "\n",
    "\n",
    "* **(5pt)** Find, approximately the point $x^*$, $0<x^*<1$, at which the third derivative of $u$ is zero\n"
   ]
  },
  {
   "cell_type": "markdown",
   "metadata": {},
   "source": [
    "### Problem PS2.P1 (20pt)\n",
    "\n",
    "Consider the following PDE\n",
    "$$\n",
    "\\left\\{\n",
    "\\begin{array}{l}\n",
    "\\frac{\\partial u}{\\partial t} = {\\rm div} ((0.2+u^2) \\nabla u) + 10 u (1-u^2) \\\\\n",
    "u|_{t=0}=u^0 \\\\\n",
    "\\end{array}\n",
    "\\right.\n",
    "$$\n",
    "for $u=u(t,x,y)$ with $u^0$ being white noise - set as a uniformly distributed random number between -1 and 1 at each finite difference grid point.\n",
    "Consider the domain $[-20,20]\\times[-20,20]$ and periodic boundary conditons.\n",
    "\n",
    "Solve this with finite differences (FD). Take the spatial step size $h=0.2$, the temporal step $\\tau = h^2/8$. Solve the PDE till $T=100$ and plot the solution; repeat 3 times with different random initialization of $u^0$."
   ]
  },
  {
   "cell_type": "markdown",
   "metadata": {},
   "source": [
    "### Problem PS2.P2 (60pt)\n",
    "\n",
    "For the next problem we need a bessel function $I_0(r)$:"
   ]
  },
  {
   "cell_type": "code",
   "execution_count": 3,
   "metadata": {},
   "outputs": [],
   "source": [
    "import numpy as np\n",
    "\n",
    "# this is a good approximation of the Bessel's I_(r) function for r<=sqrt(2):\n",
    "def BesselI(r):\n",
    "    return  ((r**20/1.380784741023744e19) + \n",
    "             (r**18/3.45196185255936e16) + \n",
    "             (r**16/1.065420324864e14) + \n",
    "             (r**14/4.161798144e11) + \n",
    "             (r**12/2.1233664e9) +  \n",
    "             (r**10/1.47456e7) + \n",
    "             (r**8/147456.) + (r**6/2304.) + \n",
    "             (r**4/64.) + (r**2/4.) + 1)"
   ]
  },
  {
   "cell_type": "code",
   "execution_count": 40,
   "metadata": {},
   "outputs": [
    {
     "data": {
      "text/plain": [
       "-2.220446049250313e-16"
      ]
     },
     "execution_count": 40,
     "metadata": {},
     "output_type": "execute_result"
    }
   ],
   "source": [
    "# let's test:\n",
    "1.5660829297563505 - BesselI(np.sqrt(2))"
   ]
  },
  {
   "cell_type": "markdown",
   "metadata": {},
   "source": [
    "Consider the following PDE in $\\Omega=[-1,1]\\times[-1,1]$\n",
    "$$\n",
    "\\left\\{\n",
    "\\begin{array}{l}\n",
    "-{\\rm div} (\\nabla u) + u = 0 \\\\\n",
    "u|_{\\partial\\Omega} = I_0\\big(\\sqrt{x^2+y^2}\\big)\\\\\n",
    "\\end{array}\n",
    "\\right.\n",
    "$$\n",
    "Solve this problem with finite elements. Find the error between the approximate solution $u_h$ and the exact solution $u(x) = I_0\\big(\\sqrt{x^2+y^2}\\big)$. Demonstrate convergence (decrease of error with the increase of the mesh step size).\n",
    "\n",
    "To that end, you also need to integrate $\\int_T \\phi_k(x) \\phi_l(x) dx$ for different basis functions $\\phi_k$ and $\\phi_l$ inside a triangle."
   ]
  },
  {
   "cell_type": "code",
   "execution_count": null,
   "metadata": {
    "collapsed": true
   },
   "outputs": [],
   "source": []
  }
 ],
 "metadata": {
  "kernelspec": {
   "display_name": "Python 3",
   "language": "python",
   "name": "python3"
  },
  "language_info": {
   "codemirror_mode": {
    "name": "ipython",
    "version": 3
   },
   "file_extension": ".py",
   "mimetype": "text/x-python",
   "name": "python",
   "nbconvert_exporter": "python",
   "pygments_lexer": "ipython3",
   "version": "3.7.0"
  }
 },
 "nbformat": 4,
 "nbformat_minor": 1
}
